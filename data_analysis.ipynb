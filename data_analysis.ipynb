{
 "cells": [
  {
   "cell_type": "code",
   "execution_count": 51,
   "metadata": {},
   "outputs": [],
   "source": [
    "import pandas as pd\n",
    "import matplotlib\n",
    "import matplotlib.pyplot as plt\n",
    "import numpy as np"
   ]
  },
  {
   "cell_type": "code",
   "execution_count": 52,
   "metadata": {},
   "outputs": [
    {
     "name": "stdout",
     "output_type": "stream",
     "text": [
      "France\n",
      "    index                                               name price  \\\n",
      "0      0  Poulet fermier blanc Label Rouge FERMIERS DE LOUE  9,75   \n",
      "1      1                        Filets de chicken CARREFOUR  9,25   \n",
      "2      2  Poulet jaune d'Auvergne Label Rouge FILIERE QU...  9,66   \n",
      "3      3         Filets de chicken blanc CARREFOUR CLASSIC'  7,67   \n",
      "4      4  Poulet blanc d'Auvergne Label Rouge FILIERE QU...  9,66   \n",
      "\n",
      "   price_per_kg category  \n",
      "0          6.50  chicken  \n",
      "1         10.89  chicken  \n",
      "2          6.90  chicken  \n",
      "3         15.35  chicken  \n",
      "4          6.90  chicken  \n",
      "Spain\n",
      "                                                 name                id  \\\n",
      "0  Manzana granny smith Carrefour a granel 1 kg a...  VC4AECOMM-094469   \n",
      "1              Manzana Golden Carrefour cesta 1,5 kg      fprod1460515   \n",
      "2         Manzana fuji Carrefour a granel 1 kg aprox  VC4AECOMM-094467   \n",
      "3  Manzana royal gala Carrefour a granel 1 kg aprox   VC4AECOMM-094468   \n",
      "4                  Manzana roja Carrefour 1 kg aprox  VC4AECOMM-235337   \n",
      "\n",
      "  category2       subcategory measure_unit   price price_per_unit  \\\n",
      "0    Fruits  Manzanas y Peras           kg  1,80 €         1,80 €   \n",
      "1    Fruits  Manzanas y Peras           kg  2,49 €         1,66 €   \n",
      "2    Fruits  Manzanas y Peras           kg  2,25 €         2,25 €   \n",
      "3    Fruits  Manzanas y Peras           kg  1,99 €         1,99 €   \n",
      "4    Fruits  Manzanas y Peras           kg  1,99 €         1,99 €   \n",
      "\n",
      "   sell_pack_unit    datetime category country  \n",
      "0               1  2023-06-05    Apple   Spain  \n",
      "1               1  2023-06-05    Apple   Spain  \n",
      "2               1  2023-06-05    Apple   Spain  \n",
      "3               1  2023-06-05    Apple   Spain  \n",
      "4               1  2023-06-05    Apple   Spain  \n",
      "Taiwan\n",
      "               id                        name  measure_unit  price category2  \\\n",
      "0  2202117500101  TAP Apple vegetable sponge             1   49.0     Apple   \n",
      "1  2212012600106              Fuji Apple#110             6   60.0     Apple   \n",
      "2  2212013500105               Fuji Apple#90             5   99.0     Apple   \n",
      "3  2217700700101        Bullet Wax Apple/box             1   59.0     Apple   \n",
      "4  2212013500104               Fuji Apple#90             4  100.0     Apple   \n",
      "\n",
      "     subcategory    datetime country  \n",
      "0     Vegetables  2023-06-05  Taiwan  \n",
      "1  Season Fruits  2023-06-05  Taiwan  \n",
      "2  Season Fruits  2023-06-05  Taiwan  \n",
      "3  Season Fruits  2023-06-05  Taiwan  \n",
      "4  Season Fruits  2023-06-05  Taiwan  \n"
     ]
    }
   ],
   "source": [
    "# csv loading\n",
    "france_df = pd.read_csv('./france.csv')\n",
    "spain_df = pd.read_csv('./spain.csv')\n",
    "taiwan_df = pd.read_csv('./taiwan.csv')\n",
    "print(\"France\\n\", france_df.head())\n",
    "print(\"Spain\\n\", spain_df.head())\n",
    "print(\"Taiwan\\n\", taiwan_df.head())"
   ]
  },
  {
   "cell_type": "code",
   "execution_count": 53,
   "metadata": {},
   "outputs": [
    {
     "data": {
      "text/html": [
       "<div>\n",
       "<style scoped>\n",
       "    .dataframe tbody tr th:only-of-type {\n",
       "        vertical-align: middle;\n",
       "    }\n",
       "\n",
       "    .dataframe tbody tr th {\n",
       "        vertical-align: top;\n",
       "    }\n",
       "\n",
       "    .dataframe thead th {\n",
       "        text-align: right;\n",
       "    }\n",
       "</style>\n",
       "<table border=\"1\" class=\"dataframe\">\n",
       "  <thead>\n",
       "    <tr style=\"text-align: right;\">\n",
       "      <th></th>\n",
       "      <th>id</th>\n",
       "      <th>name</th>\n",
       "      <th>measure_unit</th>\n",
       "      <th>price</th>\n",
       "      <th>category2</th>\n",
       "      <th>subcategory</th>\n",
       "      <th>datetime</th>\n",
       "      <th>country</th>\n",
       "    </tr>\n",
       "  </thead>\n",
       "  <tbody>\n",
       "    <tr>\n",
       "      <th>0</th>\n",
       "      <td>2202117500101</td>\n",
       "      <td>TAP Apple vegetable sponge</td>\n",
       "      <td>1</td>\n",
       "      <td>49.0</td>\n",
       "      <td>Apple</td>\n",
       "      <td>Vegetables</td>\n",
       "      <td>2023-06-05</td>\n",
       "      <td>Taiwan</td>\n",
       "    </tr>\n",
       "    <tr>\n",
       "      <th>1</th>\n",
       "      <td>2212012600106</td>\n",
       "      <td>Fuji Apple#110</td>\n",
       "      <td>6</td>\n",
       "      <td>60.0</td>\n",
       "      <td>Apple</td>\n",
       "      <td>Season Fruits</td>\n",
       "      <td>2023-06-05</td>\n",
       "      <td>Taiwan</td>\n",
       "    </tr>\n",
       "    <tr>\n",
       "      <th>2</th>\n",
       "      <td>2212013500105</td>\n",
       "      <td>Fuji Apple#90</td>\n",
       "      <td>5</td>\n",
       "      <td>99.0</td>\n",
       "      <td>Apple</td>\n",
       "      <td>Season Fruits</td>\n",
       "      <td>2023-06-05</td>\n",
       "      <td>Taiwan</td>\n",
       "    </tr>\n",
       "    <tr>\n",
       "      <th>3</th>\n",
       "      <td>2217700700101</td>\n",
       "      <td>Bullet Wax Apple/box</td>\n",
       "      <td>1</td>\n",
       "      <td>59.0</td>\n",
       "      <td>Apple</td>\n",
       "      <td>Season Fruits</td>\n",
       "      <td>2023-06-05</td>\n",
       "      <td>Taiwan</td>\n",
       "    </tr>\n",
       "    <tr>\n",
       "      <th>4</th>\n",
       "      <td>2212013500104</td>\n",
       "      <td>Fuji Apple#90</td>\n",
       "      <td>4</td>\n",
       "      <td>100.0</td>\n",
       "      <td>Apple</td>\n",
       "      <td>Season Fruits</td>\n",
       "      <td>2023-06-05</td>\n",
       "      <td>Taiwan</td>\n",
       "    </tr>\n",
       "  </tbody>\n",
       "</table>\n",
       "</div>"
      ],
      "text/plain": [
       "              id                        name  measure_unit  price category2  \\\n",
       "0  2202117500101  TAP Apple vegetable sponge             1   49.0     Apple   \n",
       "1  2212012600106              Fuji Apple#110             6   60.0     Apple   \n",
       "2  2212013500105               Fuji Apple#90             5   99.0     Apple   \n",
       "3  2217700700101        Bullet Wax Apple/box             1   59.0     Apple   \n",
       "4  2212013500104               Fuji Apple#90             4  100.0     Apple   \n",
       "\n",
       "     subcategory    datetime country  \n",
       "0     Vegetables  2023-06-05  Taiwan  \n",
       "1  Season Fruits  2023-06-05  Taiwan  \n",
       "2  Season Fruits  2023-06-05  Taiwan  \n",
       "3  Season Fruits  2023-06-05  Taiwan  \n",
       "4  Season Fruits  2023-06-05  Taiwan  "
      ]
     },
     "execution_count": 53,
     "metadata": {},
     "output_type": "execute_result"
    }
   ],
   "source": [
    "# checking missing values\n",
    "france_df.drop(france_df.columns[0], axis=1, inplace=True)\n",
    "\n",
    "france_df.isna().any()\n",
    "spain_df.isna().any()\n",
    "taiwan_df.isna().any()\n",
    "taiwan_df.head()"
   ]
  },
  {
   "cell_type": "code",
   "execution_count": 56,
   "metadata": {},
   "outputs": [
    {
     "name": "stdout",
     "output_type": "stream",
     "text": [
      "Apple\n",
      "Banana\n",
      "Carrot\n",
      "Cheese\n",
      "Lettuce\n",
      "Salmon\n",
      "Tomato\n",
      "chicken\n"
     ]
    }
   ],
   "source": [
    "group_france = france_df.groupby('category')\n",
    "group_spain = spain_df.groupby('category')\n",
    "group_taiwan = taiwan_df.groupby('category2')\n",
    "dfs_france = {}\n",
    "dfs_spain = {}\n",
    "dfs_taiwan = {}\n",
    "categories = [\"chicken\", \"apple\", \"salmon\", \"eggs\", \"lettuce\", \"tomatoes\", \"bananas\", \"carrots\", \"cheese\", \"baguette\"]\n",
    "\n",
    "def extract_france_label(group):\n",
    "    tmp = dict()\n",
    "    tmp['names'] = group.iloc[:, 0]\n",
    "    tmp['prices'] = np.array(group.iloc[:, 1].str.replace(',', '.').astype(float))\n",
    "    tmp['prices_per_kg'] = np.array(group.iloc[:, 2].astype(float))\n",
    "    tmp['category'] = group.iloc[:, 3]\n",
    "    return tmp\n",
    "\n",
    "# name,id,category2,subcategory,measure_unit,price,price_per_unit,sell_pack_unit,datetime,category,country\n",
    "def extract_spain_label(group):\n",
    "    tmp = dict()\n",
    "    tmp['names'] = group.iloc[:, 0]\n",
    "    tmp['prices'] = np.array(group.iloc[:, 5].str.replace(',', '.').str.replace(' €', '').astype(float))\n",
    "    tmp['category'] = group.iloc[:, 9]\n",
    "    return tmp\n",
    "\n",
    "# id,name,measure_unit,price,category2,subcategory,datetime,country\n",
    "def extract_taiwan_label(group):\n",
    "    tmp = dict()\n",
    "    tmp['names'] = group.iloc[:, 1]\n",
    "    tmp['prices'] = np.array(group.iloc[:, 3].astype(float))\n",
    "    tmp['category'] = group.iloc[:, 4]\n",
    "    return tmp\n",
    "\n",
    "for name, group in group_france:\n",
    "    dfs_france[name.lower()] = extract_france_label(group)\n",
    "for name, group in group_spain:\n",
    "    print(name)\n",
    "    dfs_spain[name.lower()] = extract_spain_label(group)\n",
    "for name, group in group_taiwan:\n",
    "    dfs_taiwan[name.lower()] = extract_taiwan_label(group)"
   ]
  },
  {
   "cell_type": "code",
   "execution_count": 57,
   "metadata": {},
   "outputs": [
    {
     "name": "stdout",
     "output_type": "stream",
     "text": [
      "9.011045751633988\n",
      "6.1288888888888895\n",
      "121.66666666666667\n"
     ]
    }
   ],
   "source": [
    "print(dfs_france['chicken'][\"prices\"].mean())\n",
    "print(dfs_spain['chicken'][\"prices\"].mean())\n",
    "print(dfs_taiwan['chicken'][\"prices\"].mean())\n"
   ]
  },
  {
   "cell_type": "code",
   "execution_count": 59,
   "metadata": {},
   "outputs": [
    {
     "name": "stdout",
     "output_type": "stream",
     "text": [
      "[[  9.01104575   6.12888889 121.66666667]\n",
      " [  3.18812121   2.644375   650.16      ]\n",
      " [  7.87930693   9.16666667 316.81818182]]\n"
     ]
    },
    {
     "data": {
      "image/png": "[encoded data removed]",
      "text/plain": [
       "<Figure size 640x480 with 1 Axes>"
      ]
     },
     "metadata": {},
     "output_type": "display_data"
    }
   ],
   "source": [
    "def plot_bar(prices):\n",
    "    # Define the country names\n",
    "    countries = ['france', 'spain', 'taiwan']\n",
    "    products = ['chicken', 'apple', 'salmon']\n",
    "    # Get the number of countries and prices\n",
    "    old_value = 0\n",
    "    for i, p in enumerate(prices):\n",
    "        plt.bar(range(len(p)), p, bottom=old_value, label=products[i])\n",
    "        old_value += p\n",
    "    plt.xticks([0, 1, 2], countries)\n",
    "    plt.legend()\n",
    "    plt.show()\n",
    "\n",
    "column_list = []\n",
    "\n",
    "products = ['chicken', 'apple', 'salmon']\n",
    "\n",
    "france_data, spain_data, taiwan_data = [],[],[]\n",
    "    #france_data = [7, 4, 7, 2]\n",
    "    #spain_data = np.array([6, 3, 5, 4])\n",
    "    #taiwan_data = np.array([9, 9, 4, 3])\n",
    "for p in products:\n",
    "    france_data.append(dfs_france[p][\"prices\"].mean())\n",
    "    spain_data.append(dfs_spain[p][\"prices\"].mean())\n",
    "    taiwan_data.append(dfs_taiwan[p][\"prices\"].mean() / 30)\n",
    "\n",
    "# Column 1\n",
    "column_list.append(france_data)\n",
    "# Column 2\n",
    "column_list.append(spain_data)\n",
    "# Column 3\n",
    "column_list.append(taiwan_data)\n",
    "# Combine the column arrays into a 2D array using column_stack()\n",
    "data = np.column_stack(column_list)\n",
    "print(data)\n",
    "\n",
    "\n",
    "plot_bar(data)"
   ]
  },
  {
   "cell_type": "code",
   "execution_count": null,
   "metadata": {},
   "outputs": [],
   "source": []
  }
 ],
 "metadata": {
  "kernelspec": {
   "display_name": "Python 3",
   "language": "python",
   "name": "python3"
  },
  "language_info": {
   "codemirror_mode": {
    "name": "ipython",
    "version": 3
   },
   "file_extension": ".py",
   "mimetype": "text/x-python",
   "name": "python",
   "nbconvert_exporter": "python",
   "pygments_lexer": "ipython3",
   "version": "3.9.13"
  },
  "orig_nbformat": 4
 },
 "nbformat": 4,
 "nbformat_minor": 2
}
