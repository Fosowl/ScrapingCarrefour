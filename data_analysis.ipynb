{
 "cells": [
  {
   "cell_type": "code",
   "execution_count": 13,
   "metadata": {},
   "outputs": [],
   "source": [
    "import pandas as pd\n",
    "import matplotlib\n",
    "import matplotlib.pyplot as plt\n",
    "import numpy as np"
   ]
  },
  {
   "cell_type": "code",
   "execution_count": 14,
   "metadata": {},
   "outputs": [
    {
     "name": "stdout",
     "output_type": "stream",
     "text": [
      "France\n",
      "    index                                               name price  \\\n",
      "0      0  Poulet fermier blanc Label Rouge FERMIERS DE LOUE  9,75   \n",
      "1      1                        Filets de chicken CARREFOUR  9,25   \n",
      "2      2  Poulet jaune d'Auvergne Label Rouge FILIERE QU...  9,66   \n",
      "3      3         Filets de chicken blanc CARREFOUR CLASSIC'  7,67   \n",
      "4      4  Poulet blanc d'Auvergne Label Rouge FILIERE QU...  9,66   \n",
      "\n",
      "   price_per_kg category  \n",
      "0          6.50  chicken  \n",
      "1         10.89  chicken  \n",
      "2          6.90  chicken  \n",
      "3         15.35  chicken  \n",
      "4          6.90  chicken  \n",
      "Spain\n",
      "                                                 name                id  \\\n",
      "0  Manzana granny smith Carrefour a granel 1 kg a...  VC4AECOMM-094469   \n",
      "1              Manzana Golden Carrefour cesta 1,5 kg      fprod1460515   \n",
      "2         Manzana fuji Carrefour a granel 1 kg aprox  VC4AECOMM-094467   \n",
      "3  Manzana royal gala Carrefour a granel 1 kg aprox   VC4AECOMM-094468   \n",
      "4                  Manzana roja Carrefour 1 kg aprox  VC4AECOMM-235337   \n",
      "\n",
      "  category2       subcategory measure_unit   price price_per_unit  \\\n",
      "0    Fruits  Manzanas y Peras           kg  1,80 €         1,80 €   \n",
      "1    Fruits  Manzanas y Peras           kg  2,49 €         1,66 €   \n",
      "2    Fruits  Manzanas y Peras           kg  2,25 €         2,25 €   \n",
      "3    Fruits  Manzanas y Peras           kg  1,99 €         1,99 €   \n",
      "4    Fruits  Manzanas y Peras           kg  1,99 €         1,99 €   \n",
      "\n",
      "   sell_pack_unit    datetime category country  \n",
      "0               1  2023-06-05    Apple   Spain  \n",
      "1               1  2023-06-05    Apple   Spain  \n",
      "2               1  2023-06-05    Apple   Spain  \n",
      "3               1  2023-06-05    Apple   Spain  \n",
      "4               1  2023-06-05    Apple   Spain  \n",
      "Taiwan\n",
      "               id                        name  measure_unit  price category2  \\\n",
      "0  2202117500101  TAP Apple vegetable sponge             1   49.0     Apple   \n",
      "1  2212012600106              Fuji Apple#110             6   60.0     Apple   \n",
      "2  2212013500105               Fuji Apple#90             5   99.0     Apple   \n",
      "3  2217700700101        Bullet Wax Apple/box             1   59.0     Apple   \n",
      "4  2212013500104               Fuji Apple#90             4  100.0     Apple   \n",
      "\n",
      "     subcategory    datetime country  \n",
      "0     Vegetables  2023-06-05  Taiwan  \n",
      "1  Season Fruits  2023-06-05  Taiwan  \n",
      "2  Season Fruits  2023-06-05  Taiwan  \n",
      "3  Season Fruits  2023-06-05  Taiwan  \n",
      "4  Season Fruits  2023-06-05  Taiwan  \n"
     ]
    }
   ],
   "source": [
    "# csv loading\n",
    "france_df = pd.read_csv('./france.csv')\n",
    "spain_df = pd.read_csv('./spain.csv')\n",
    "taiwan_df = pd.read_csv('./taiwan.csv')\n",
    "print(\"France\\n\", france_df.head())\n",
    "print(\"Spain\\n\", spain_df.head())\n",
    "print(\"Taiwan\\n\", taiwan_df.head())"
   ]
  },
  {
   "cell_type": "code",
   "execution_count": 15,
   "metadata": {},
   "outputs": [
    {
     "data": {
      "text/html": [
       "<div>\n",
       "<style scoped>\n",
       "    .dataframe tbody tr th:only-of-type {\n",
       "        vertical-align: middle;\n",
       "    }\n",
       "\n",
       "    .dataframe tbody tr th {\n",
       "        vertical-align: top;\n",
       "    }\n",
       "\n",
       "    .dataframe thead th {\n",
       "        text-align: right;\n",
       "    }\n",
       "</style>\n",
       "<table border=\"1\" class=\"dataframe\">\n",
       "  <thead>\n",
       "    <tr style=\"text-align: right;\">\n",
       "      <th></th>\n",
       "      <th>id</th>\n",
       "      <th>name</th>\n",
       "      <th>measure_unit</th>\n",
       "      <th>price</th>\n",
       "      <th>category2</th>\n",
       "      <th>subcategory</th>\n",
       "      <th>datetime</th>\n",
       "      <th>country</th>\n",
       "    </tr>\n",
       "  </thead>\n",
       "  <tbody>\n",
       "    <tr>\n",
       "      <th>0</th>\n",
       "      <td>2202117500101</td>\n",
       "      <td>TAP Apple vegetable sponge</td>\n",
       "      <td>1</td>\n",
       "      <td>49.0</td>\n",
       "      <td>Apple</td>\n",
       "      <td>Vegetables</td>\n",
       "      <td>2023-06-05</td>\n",
       "      <td>Taiwan</td>\n",
       "    </tr>\n",
       "    <tr>\n",
       "      <th>1</th>\n",
       "      <td>2212012600106</td>\n",
       "      <td>Fuji Apple#110</td>\n",
       "      <td>6</td>\n",
       "      <td>60.0</td>\n",
       "      <td>Apple</td>\n",
       "      <td>Season Fruits</td>\n",
       "      <td>2023-06-05</td>\n",
       "      <td>Taiwan</td>\n",
       "    </tr>\n",
       "    <tr>\n",
       "      <th>2</th>\n",
       "      <td>2212013500105</td>\n",
       "      <td>Fuji Apple#90</td>\n",
       "      <td>5</td>\n",
       "      <td>99.0</td>\n",
       "      <td>Apple</td>\n",
       "      <td>Season Fruits</td>\n",
       "      <td>2023-06-05</td>\n",
       "      <td>Taiwan</td>\n",
       "    </tr>\n",
       "    <tr>\n",
       "      <th>3</th>\n",
       "      <td>2217700700101</td>\n",
       "      <td>Bullet Wax Apple/box</td>\n",
       "      <td>1</td>\n",
       "      <td>59.0</td>\n",
       "      <td>Apple</td>\n",
       "      <td>Season Fruits</td>\n",
       "      <td>2023-06-05</td>\n",
       "      <td>Taiwan</td>\n",
       "    </tr>\n",
       "    <tr>\n",
       "      <th>4</th>\n",
       "      <td>2212013500104</td>\n",
       "      <td>Fuji Apple#90</td>\n",
       "      <td>4</td>\n",
       "      <td>100.0</td>\n",
       "      <td>Apple</td>\n",
       "      <td>Season Fruits</td>\n",
       "      <td>2023-06-05</td>\n",
       "      <td>Taiwan</td>\n",
       "    </tr>\n",
       "  </tbody>\n",
       "</table>\n",
       "</div>"
      ],
      "text/plain": [
       "              id                        name  measure_unit  price category2  \\\n",
       "0  2202117500101  TAP Apple vegetable sponge             1   49.0     Apple   \n",
       "1  2212012600106              Fuji Apple#110             6   60.0     Apple   \n",
       "2  2212013500105               Fuji Apple#90             5   99.0     Apple   \n",
       "3  2217700700101        Bullet Wax Apple/box             1   59.0     Apple   \n",
       "4  2212013500104               Fuji Apple#90             4  100.0     Apple   \n",
       "\n",
       "     subcategory    datetime country  \n",
       "0     Vegetables  2023-06-05  Taiwan  \n",
       "1  Season Fruits  2023-06-05  Taiwan  \n",
       "2  Season Fruits  2023-06-05  Taiwan  \n",
       "3  Season Fruits  2023-06-05  Taiwan  \n",
       "4  Season Fruits  2023-06-05  Taiwan  "
      ]
     },
     "execution_count": 15,
     "metadata": {},
     "output_type": "execute_result"
    }
   ],
   "source": [
    "# checking missing values\n",
    "france_df.drop(france_df.columns[0], axis=1, inplace=True)\n",
    "\n",
    "france_df.isna().any()\n",
    "spain_df.isna().any()\n",
    "taiwan_df.isna().any()\n",
    "taiwan_df.head()"
   ]
  },
  {
   "cell_type": "code",
   "execution_count": 38,
   "metadata": {},
   "outputs": [
    {
     "ename": "AttributeError",
     "evalue": "'Series' object has no attribute 'lower'",
     "output_type": "error",
     "traceback": [
      "\u001b[0;31m---------------------------------------------------------------------------\u001b[0m",
      "\u001b[0;31mAttributeError\u001b[0m                            Traceback (most recent call last)",
      "\u001b[1;32m/Users/mlg/Documents/A-FCU/ECOMMERCE-AI/ScrapingPescado/data_analysis.ipynb Cell 4\u001b[0m in \u001b[0;36m3\n\u001b[1;32m     <a href='vscode-notebook-cell:/Users/mlg/Documents/A-FCU/ECOMMERCE-AI/ScrapingPescado/data_analysis.ipynb#W3sZmlsZQ%3D%3D?line=30'>31</a>\u001b[0m     \u001b[39mreturn\u001b[39;00m tmp\n\u001b[1;32m     <a href='vscode-notebook-cell:/Users/mlg/Documents/A-FCU/ECOMMERCE-AI/ScrapingPescado/data_analysis.ipynb#W3sZmlsZQ%3D%3D?line=32'>33</a>\u001b[0m \u001b[39mfor\u001b[39;00m name, group \u001b[39min\u001b[39;00m group_france:\n\u001b[0;32m---> <a href='vscode-notebook-cell:/Users/mlg/Documents/A-FCU/ECOMMERCE-AI/ScrapingPescado/data_analysis.ipynb#W3sZmlsZQ%3D%3D?line=33'>34</a>\u001b[0m     dfs_france[name] \u001b[39m=\u001b[39m extract_france_label(group)\n\u001b[1;32m     <a href='vscode-notebook-cell:/Users/mlg/Documents/A-FCU/ECOMMERCE-AI/ScrapingPescado/data_analysis.ipynb#W3sZmlsZQ%3D%3D?line=34'>35</a>\u001b[0m \u001b[39mfor\u001b[39;00m name, group \u001b[39min\u001b[39;00m group_spain:\n\u001b[1;32m     <a href='vscode-notebook-cell:/Users/mlg/Documents/A-FCU/ECOMMERCE-AI/ScrapingPescado/data_analysis.ipynb#W3sZmlsZQ%3D%3D?line=35'>36</a>\u001b[0m     dfs_spain[name] \u001b[39m=\u001b[39m extract_spain_label(group)\n",
      "\u001b[1;32m/Users/mlg/Documents/A-FCU/ECOMMERCE-AI/ScrapingPescado/data_analysis.ipynb Cell 4\u001b[0m in \u001b[0;36m1\n\u001b[1;32m      <a href='vscode-notebook-cell:/Users/mlg/Documents/A-FCU/ECOMMERCE-AI/ScrapingPescado/data_analysis.ipynb#W3sZmlsZQ%3D%3D?line=8'>9</a>\u001b[0m \u001b[39mdef\u001b[39;00m \u001b[39mextract_france_label\u001b[39m(group):\n\u001b[1;32m     <a href='vscode-notebook-cell:/Users/mlg/Documents/A-FCU/ECOMMERCE-AI/ScrapingPescado/data_analysis.ipynb#W3sZmlsZQ%3D%3D?line=9'>10</a>\u001b[0m     tmp \u001b[39m=\u001b[39m \u001b[39mdict\u001b[39m()\n\u001b[0;32m---> <a href='vscode-notebook-cell:/Users/mlg/Documents/A-FCU/ECOMMERCE-AI/ScrapingPescado/data_analysis.ipynb#W3sZmlsZQ%3D%3D?line=10'>11</a>\u001b[0m     tmp[\u001b[39m'\u001b[39m\u001b[39mnames\u001b[39m\u001b[39m'\u001b[39m] \u001b[39m=\u001b[39m group\u001b[39m.\u001b[39;49miloc[:, \u001b[39m0\u001b[39;49m]\u001b[39m.\u001b[39;49mlower()\n\u001b[1;32m     <a href='vscode-notebook-cell:/Users/mlg/Documents/A-FCU/ECOMMERCE-AI/ScrapingPescado/data_analysis.ipynb#W3sZmlsZQ%3D%3D?line=11'>12</a>\u001b[0m     tmp[\u001b[39m'\u001b[39m\u001b[39mprices\u001b[39m\u001b[39m'\u001b[39m] \u001b[39m=\u001b[39m np\u001b[39m.\u001b[39marray(group\u001b[39m.\u001b[39miloc[:, \u001b[39m1\u001b[39m]\u001b[39m.\u001b[39mstr\u001b[39m.\u001b[39mreplace(\u001b[39m'\u001b[39m\u001b[39m,\u001b[39m\u001b[39m'\u001b[39m, \u001b[39m'\u001b[39m\u001b[39m.\u001b[39m\u001b[39m'\u001b[39m)\u001b[39m.\u001b[39mastype(\u001b[39mfloat\u001b[39m))\n\u001b[1;32m     <a href='vscode-notebook-cell:/Users/mlg/Documents/A-FCU/ECOMMERCE-AI/ScrapingPescado/data_analysis.ipynb#W3sZmlsZQ%3D%3D?line=12'>13</a>\u001b[0m     tmp[\u001b[39m'\u001b[39m\u001b[39mprices_per_kg\u001b[39m\u001b[39m'\u001b[39m] \u001b[39m=\u001b[39m np\u001b[39m.\u001b[39marray(group\u001b[39m.\u001b[39miloc[:, \u001b[39m2\u001b[39m]\u001b[39m.\u001b[39mastype(\u001b[39mfloat\u001b[39m))\n",
      "File \u001b[0;32m/opt/homebrew/Caskroom/miniforge/base/lib/python3.9/site-packages/pandas/core/generic.py:5907\u001b[0m, in \u001b[0;36mNDFrame.__getattr__\u001b[0;34m(self, name)\u001b[0m\n\u001b[1;32m   5900\u001b[0m \u001b[39mif\u001b[39;00m (\n\u001b[1;32m   5901\u001b[0m     name \u001b[39mnot\u001b[39;00m \u001b[39min\u001b[39;00m \u001b[39mself\u001b[39m\u001b[39m.\u001b[39m_internal_names_set\n\u001b[1;32m   5902\u001b[0m     \u001b[39mand\u001b[39;00m name \u001b[39mnot\u001b[39;00m \u001b[39min\u001b[39;00m \u001b[39mself\u001b[39m\u001b[39m.\u001b[39m_metadata\n\u001b[1;32m   5903\u001b[0m     \u001b[39mand\u001b[39;00m name \u001b[39mnot\u001b[39;00m \u001b[39min\u001b[39;00m \u001b[39mself\u001b[39m\u001b[39m.\u001b[39m_accessors\n\u001b[1;32m   5904\u001b[0m     \u001b[39mand\u001b[39;00m \u001b[39mself\u001b[39m\u001b[39m.\u001b[39m_info_axis\u001b[39m.\u001b[39m_can_hold_identifiers_and_holds_name(name)\n\u001b[1;32m   5905\u001b[0m ):\n\u001b[1;32m   5906\u001b[0m     \u001b[39mreturn\u001b[39;00m \u001b[39mself\u001b[39m[name]\n\u001b[0;32m-> 5907\u001b[0m \u001b[39mreturn\u001b[39;00m \u001b[39mobject\u001b[39;49m\u001b[39m.\u001b[39;49m\u001b[39m__getattribute__\u001b[39;49m(\u001b[39mself\u001b[39;49m, name)\n",
      "\u001b[0;31mAttributeError\u001b[0m: 'Series' object has no attribute 'lower'"
     ]
    }
   ],
   "source": [
    "group_france = france_df.groupby('category')\n",
    "group_spain = spain_df.groupby('category2')\n",
    "group_taiwan = taiwan_df.groupby('category2')\n",
    "dfs_france = {}\n",
    "dfs_spain = {}\n",
    "dfs_taiwan = {}\n",
    "categories = [\"chicken\", \"apple\", \"salmon\", \"eggs\", \"lettuce\", \"tomatoes\", \"bananas\", \"carrots\", \"cheese\", \"baguette\"]\n",
    "\n",
    "def extract_france_label(group):\n",
    "    tmp = dict()\n",
    "    tmp['names'] = group.iloc[:, 0]\n",
    "    tmp['prices'] = np.array(group.iloc[:, 1].str.replace(',', '.').astype(float))\n",
    "    tmp['prices_per_kg'] = np.array(group.iloc[:, 2].astype(float))\n",
    "    tmp['category'] = group.iloc[:, 3]\n",
    "    return tmp\n",
    "\n",
    "# name,id,category2,subcategory,measure_unit,price,price_per_unit,sell_pack_unit,datetime,category,country\n",
    "def extract_spain_label(group):\n",
    "    tmp = dict()\n",
    "    tmp['names'] = group.iloc[:, 0]\n",
    "    tmp['prices'] = np.array(group.iloc[:, 5].str.replace(',', '.').str.replace(' €', '').astype(float))\n",
    "    tmp['category'] = group.iloc[:, 2]\n",
    "    return tmp\n",
    "\n",
    "# id,name,measure_unit,price,category2,subcategory,datetime,country\n",
    "def extract_taiwan_label(group):\n",
    "    tmp = dict()\n",
    "    tmp['names'] = group.iloc[:, 1]\n",
    "    tmp['prices'] = np.array(group.iloc[:, 3].astype(float))\n",
    "    tmp['category'] = group.iloc[:, 4]\n",
    "    return tmp\n",
    "\n",
    "for name, group in group_france:\n",
    "    dfs_france[name] = extract_france_label(group)\n",
    "for name, group in group_spain:\n",
    "    dfs_spain[name] = extract_spain_label(group)\n",
    "for name, group in group_taiwan:\n",
    "    dfs_taiwan[name] = extract_taiwan_label(group)\n",
    "\n",
    "france = dict()\n",
    "for c in categories:\n",
    "    if c in dfs_france:\n",
    "        france[c] = dfs_france[c]\n",
    "taiwan = dict()\n",
    "for c in categories:\n",
    "    if c in dfs_taiwan:\n",
    "        taiwan[c] = dfs_taiwan[c]\n",
    "spain = dict()\n",
    "for c in categories:\n",
    "    if c in dfs_spain:\n",
    "        spain[c] = dfs_spain[c]"
   ]
  },
  {
   "cell_type": "code",
   "execution_count": 37,
   "metadata": {},
   "outputs": [
    {
     "name": "stdout",
     "output_type": "stream",
     "text": [
      "9.011045751633988\n"
     ]
    },
    {
     "ename": "KeyError",
     "evalue": "'apple'",
     "output_type": "error",
     "traceback": [
      "\u001b[0;31m---------------------------------------------------------------------------\u001b[0m",
      "\u001b[0;31mKeyError\u001b[0m                                  Traceback (most recent call last)",
      "\u001b[1;32m/Users/mlg/Documents/A-FCU/ECOMMERCE-AI/ScrapingPescado/data_analysis.ipynb Cell 5\u001b[0m in \u001b[0;36m2\n\u001b[1;32m      <a href='vscode-notebook-cell:/Users/mlg/Documents/A-FCU/ECOMMERCE-AI/ScrapingPescado/data_analysis.ipynb#W4sZmlsZQ%3D%3D?line=0'>1</a>\u001b[0m \u001b[39mprint\u001b[39m(france[\u001b[39m'\u001b[39m\u001b[39mchicken\u001b[39m\u001b[39m'\u001b[39m][\u001b[39m\"\u001b[39m\u001b[39mprices\u001b[39m\u001b[39m\"\u001b[39m]\u001b[39m.\u001b[39mmean())\n\u001b[0;32m----> <a href='vscode-notebook-cell:/Users/mlg/Documents/A-FCU/ECOMMERCE-AI/ScrapingPescado/data_analysis.ipynb#W4sZmlsZQ%3D%3D?line=1'>2</a>\u001b[0m \u001b[39mprint\u001b[39m(taiwan[\u001b[39m'\u001b[39;49m\u001b[39mapple\u001b[39;49m\u001b[39m'\u001b[39;49m][\u001b[39m\"\u001b[39m\u001b[39mprices\u001b[39m\u001b[39m\"\u001b[39m]\u001b[39m.\u001b[39mmean())\n\u001b[1;32m      <a href='vscode-notebook-cell:/Users/mlg/Documents/A-FCU/ECOMMERCE-AI/ScrapingPescado/data_analysis.ipynb#W4sZmlsZQ%3D%3D?line=2'>3</a>\u001b[0m \u001b[39mprint\u001b[39m(spain[\u001b[39m'\u001b[39m\u001b[39msalmon\u001b[39m\u001b[39m'\u001b[39m][\u001b[39m\"\u001b[39m\u001b[39mprices\u001b[39m\u001b[39m\"\u001b[39m]\u001b[39m.\u001b[39mmean())\n",
      "\u001b[0;31mKeyError\u001b[0m: 'apple'"
     ]
    }
   ],
   "source": [
    "print(france['chicken'][\"prices\"].mean())\n",
    "print(taiwan['apple'][\"prices\"].mean())\n",
    "print(spain['salmon'][\"prices\"].mean())\n"
   ]
  },
  {
   "cell_type": "code",
   "execution_count": 129,
   "metadata": {},
   "outputs": [
    {
     "name": "stdout",
     "output_type": "stream",
     "text": [
      "[[7 6 9]\n",
      " [4 3 9]\n",
      " [7 5 4]\n",
      " [2 4 3]]\n"
     ]
    },
    {
     "data": {
      "image/png": "[encoded data removed]",
      "text/plain": [
       "<Figure size 640x480 with 1 Axes>"
      ]
     },
     "metadata": {},
     "output_type": "display_data"
    }
   ],
   "source": [
    "def plot_bar(prices):\n",
    "    # Define the country names\n",
    "    countries = ['france', 'spain', 'taiwan']\n",
    "    products = ['chicken', 'apple', 'salmon', 'salad']\n",
    "    # Get the number of countries and prices\n",
    "    old_value = 0\n",
    "    for i, p in enumerate(prices):\n",
    "        plt.bar(range(len(p)), p, bottom=old_value, label=products[i])\n",
    "        old_value += p\n",
    "    plt.xticks([0, 1, 2], countries)\n",
    "    plt.legend()\n",
    "    plt.show()\n",
    "\n",
    "column_list = []\n",
    "\n",
    "france_data = [7, 4, 7, 2]\n",
    "#for cat in france:\n",
    "#    print(cat)\n",
    "#    france_data.append(cat[\"prices\"].mean())\n",
    "spain_data = np.array([6, 3, 5, 4])\n",
    "taiwan_data = np.array([9, 9, 4, 3])\n",
    "\n",
    "# Column 1\n",
    "column_list.append(france_data)\n",
    "# Column 2\n",
    "column_list.append(spain_data)\n",
    "# Column 3\n",
    "column_list.append(taiwan_data)\n",
    "# Combine the column arrays into a 2D array using column_stack()\n",
    "data = np.column_stack(column_list)\n",
    "print(data)\n",
    "\n",
    "\n",
    "plot_bar(data)"
   ]
  },
  {
   "cell_type": "code",
   "execution_count": null,
   "metadata": {},
   "outputs": [],
   "source": []
  }
 ],
 "metadata": {
  "kernelspec": {
   "display_name": "Python 3",
   "language": "python",
   "name": "python3"
  },
  "language_info": {
   "codemirror_mode": {
    "name": "ipython",
    "version": 3
   },
   "file_extension": ".py",
   "mimetype": "text/x-python",
   "name": "python",
   "nbconvert_exporter": "python",
   "pygments_lexer": "ipython3",
   "version": "3.9.13"
  },
  "orig_nbformat": 4
 },
 "nbformat": 4,
 "nbformat_minor": 2
}
